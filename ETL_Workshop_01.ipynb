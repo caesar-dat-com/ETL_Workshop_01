{
 "cells": [
  {
   "cell_type": "markdown",
   "metadata": {},
   "source": [
    "Flujo de Trabajo de Workshop: Migración de Datos y Análisis Inicial\n",
    "Este script de Python es el primer paso en nuestro flujo de trabajo, centrado en la migración y análisis inicial de datos con Pandas. Su función es cargar datos desde un archivo CSV para verificar su correcta importación, utilizando Pandas para leer el archivo y visualizar las primeras filas. Este proceso garantiza que los datos estén listos para las siguientes fases de análisis, marcando el inicio de nuestra exploración y manipulación de datos en el proyecto."
   ]
  },
  {
   "cell_type": "code",
   "execution_count": 6,
   "metadata": {},
   "outputs": [
    {
     "name": "stdout",
     "output_type": "stream",
     "text": [
      "  First Name;Last Name;Email;Application Date;Country;YOE;Seniority;Technology;Code Challenge Score;Technical Interview Score\n",
      "0  Bernadette;Langworth;leonard91@yahoo.com;2021-...                                                                         \n",
      "1  Camryn;Reynolds;zelda56@hotmail.com;2021-09-09...                                                                         \n",
      "2  Larue;Spinka;okey_schultz41@gmail.com;2020-04-...                                                                         \n",
      "3  Arch;Spinka;elvera_kulas@yahoo.com;2020-10-01;...                                                                         \n",
      "4  Larue;Altenwerth;minnie.gislason@gmail.com;202...                                                                         \n"
     ]
    }
   ],
   "source": [
    "import pandas as pd\n",
    "\n",
    "# Ruta al archivo CSV\n",
    "ruta_archivo = \"C:\\\\Users\\\\cesar\\\\Desktop\\\\platzi\\\\ETL_Workshop_01\\\\candidates.csv\"\n",
    "\n",
    "# Leer el archivo CSV utilizando pandas\n",
    "datos = pd.read_csv(ruta_archivo)\n",
    "\n",
    "# Mostrar las primeras filas del DataFrame para verificar la carga de datos\n",
    "print(datos.head())"
   ]
  },
  {
   "cell_type": "markdown",
   "metadata": {},
   "source": [
    "\n",
    "Este código importa un CSV usando Pandas con ; como delimitador y verifica la carga con datos.head()."
   ]
  },
  {
   "cell_type": "code",
   "execution_count": 7,
   "metadata": {},
   "outputs": [
    {
     "name": "stdout",
     "output_type": "stream",
     "text": [
      "   First Name   Last Name                      Email Application Date  \\\n",
      "0  Bernadette   Langworth        leonard91@yahoo.com       2021-02-26   \n",
      "1      Camryn    Reynolds        zelda56@hotmail.com       2021-09-09   \n",
      "2       Larue      Spinka   okey_schultz41@gmail.com       2020-04-14   \n",
      "3        Arch      Spinka     elvera_kulas@yahoo.com       2020-10-01   \n",
      "4       Larue  Altenwerth  minnie.gislason@gmail.com       2020-05-20   \n",
      "\n",
      "   Country  YOE  Seniority                         Technology  \\\n",
      "0   Norway    2     Intern                      Data Engineer   \n",
      "1   Panama   10     Intern                      Data Engineer   \n",
      "2  Belarus    4  Mid-Level                     Client Success   \n",
      "3  Eritrea   25    Trainee                          QA Manual   \n",
      "4  Myanmar   13  Mid-Level  Social Media Community Management   \n",
      "\n",
      "   Code Challenge Score  Technical Interview Score  \n",
      "0                     3                          3  \n",
      "1                     2                         10  \n",
      "2                    10                          9  \n",
      "3                     7                          1  \n",
      "4                     9                          7  \n"
     ]
    }
   ],
   "source": [
    "import pandas as pd\n",
    "\n",
    "# Ruta al archivo CSV\n",
    "ruta_archivo = \"C:\\\\Users\\\\cesar\\\\Desktop\\\\platzi\\\\ETL_Workshop_01\\\\candidates.csv\"\n",
    "\n",
    "# Leer el archivo CSV utilizando pandas y especificando el delimitador correcto\n",
    "datos = pd.read_csv(ruta_archivo, delimiter=';')\n",
    "\n",
    "# Mostrar las primeras filas del DataFrame para verificar la carga de datos\n",
    "print(datos.head())"
   ]
  },
  {
   "cell_type": "code",
   "execution_count": 2,
   "metadata": {},
   "outputs": [
    {
     "name": "stdout",
     "output_type": "stream",
     "text": [
      "Datos iniciales:\n",
      "   First Name   Last Name                      Email Application Date  \\\n",
      "0  Bernadette   Langworth        leonard91@yahoo.com       2021-02-26   \n",
      "1      Camryn    Reynolds        zelda56@hotmail.com       2021-09-09   \n",
      "2       Larue      Spinka   okey_schultz41@gmail.com       2020-04-14   \n",
      "3        Arch      Spinka     elvera_kulas@yahoo.com       2020-10-01   \n",
      "4       Larue  Altenwerth  minnie.gislason@gmail.com       2020-05-20   \n",
      "\n",
      "   Country  YOE  Seniority                         Technology  \\\n",
      "0   Norway    2     Intern                      Data Engineer   \n",
      "1   Panama   10     Intern                      Data Engineer   \n",
      "2  Belarus    4  Mid-Level                     Client Success   \n",
      "3  Eritrea   25    Trainee                          QA Manual   \n",
      "4  Myanmar   13  Mid-Level  Social Media Community Management   \n",
      "\n",
      "   Code Challenge Score  Technical Interview Score  \n",
      "0                     3                          3  \n",
      "1                     2                         10  \n",
      "2                    10                          9  \n",
      "3                     7                          1  \n",
      "4                     9                          7  \n",
      "\n",
      "Candidatos de Norway:\n",
      "       First Name  Last Name                          Email Application Date  \\\n",
      "0      Bernadette  Langworth            leonard91@yahoo.com       2021-02-26   \n",
      "367        Kellie     Herman              maeve49@gmail.com       2018-07-23   \n",
      "370        Scotty    Denesik             raul52@hotmail.com       2018-05-22   \n",
      "479          Nona    Farrell           russ.toy86@gmail.com       2021-10-05   \n",
      "538        Leonor   Mosciski            beverly76@yahoo.com       2021-12-31   \n",
      "...           ...        ...                            ...              ...   \n",
      "48915      Lawson    Hilpert              sydni21@gmail.com       2020-05-27   \n",
      "49048         Ray     Feeney         aric.goldner@gmail.com       2020-03-05   \n",
      "49254        Troy      Hoppe            derek42@hotmail.com       2018-12-25   \n",
      "49406       Laila      Lynch  ulices_thompson97@hotmail.com       2021-11-11   \n",
      "49774       Peter     Hirthe         brant.ernser@yahoo.com       2021-09-28   \n",
      "\n",
      "      Country  YOE  Seniority                               Technology  \\\n",
      "0      Norway    2     Intern                            Data Engineer   \n",
      "367    Norway   27     Junior                            QA Automation   \n",
      "370    Norway   12    Trainee                                   DevOps   \n",
      "479    Norway    5  Mid-Level                        Technical Writing   \n",
      "538    Norway    8     Senior                        Technical Writing   \n",
      "...       ...  ...        ...                                      ...   \n",
      "48915  Norway    7     Senior                         Game Development   \n",
      "49048  Norway    0     Intern                    System Administration   \n",
      "49254  Norway   24    Trainee                 Adobe Experience Manager   \n",
      "49406  Norway    5     Junior  Business Analytics / Project Management   \n",
      "49774  Norway    2  Mid-Level        Social Media Community Management   \n",
      "\n",
      "       Code Challenge Score  Technical Interview Score  \n",
      "0                         3                          3  \n",
      "367                       5                          7  \n",
      "370                       1                          6  \n",
      "479                       8                          1  \n",
      "538                       1                          5  \n",
      "...                     ...                        ...  \n",
      "48915                     4                          8  \n",
      "49048                     1                          9  \n",
      "49254                     0                          4  \n",
      "49406                     8                          3  \n",
      "49774                     8                          1  \n",
      "\n",
      "[211 rows x 10 columns]\n",
      "\n",
      "Candidatos con puntuación técnica superior a 8:\n",
      "      First Name Last Name                      Email Application Date  \\\n",
      "1         Camryn  Reynolds        zelda56@hotmail.com       2021-09-09   \n",
      "2          Larue    Spinka   okey_schultz41@gmail.com       2020-04-14   \n",
      "5           Alec    Abbott   juanita_hansen@gmail.com       2019-08-17   \n",
      "6        Allison    Jacobs   alba_rolfson27@yahoo.com       2018-05-18   \n",
      "8           Mose     Lakin   dale_murazik@hotmail.com       2018-03-13   \n",
      "...          ...       ...                        ...              ...   \n",
      "49972      Elwyn    Little   lorenzo.russel@gmail.com       2018-08-18   \n",
      "49978     Danyka      West     susana.ratke@yahoo.com       2021-01-07   \n",
      "49986      Ryley    Hickle  shyanne_labadie@yahoo.com       2019-07-23   \n",
      "49989     Bryana     Pagac           dante8@yahoo.com       2018-01-16   \n",
      "49990    Abigale   Weimann           will36@yahoo.com       2018-06-16   \n",
      "\n",
      "                 Country  YOE  Seniority  \\\n",
      "1                 Panama   10     Intern   \n",
      "2                Belarus    4  Mid-Level   \n",
      "5               Zimbabwe    8     Junior   \n",
      "6      Wallis and Futuna   19    Trainee   \n",
      "8                  Italy   18       Lead   \n",
      "...                  ...  ...        ...   \n",
      "49972             Panama   22    Trainee   \n",
      "49978           Ethiopia   25     Intern   \n",
      "49986           Botswana   21    Trainee   \n",
      "49989            Nigeria   18     Intern   \n",
      "49990            Belgium   16  Mid-Level   \n",
      "\n",
      "                                    Technology  Code Challenge Score  \\\n",
      "1                                Data Engineer                     2   \n",
      "2                               Client Success                    10   \n",
      "5                     Adobe Experience Manager                     2   \n",
      "6                                        Sales                     2   \n",
      "8            Social Media Community Management                     7   \n",
      "...                                        ...                   ...   \n",
      "49972                  Database Administration                     0   \n",
      "49978                         Game Development                     9   \n",
      "49986  Business Analytics / Project Management                     5   \n",
      "49989                                QA Manual                     8   \n",
      "49990                   Development - Frontend                     9   \n",
      "\n",
      "       Technical Interview Score  \n",
      "1                             10  \n",
      "2                              9  \n",
      "5                              9  \n",
      "6                              9  \n",
      "8                             10  \n",
      "...                          ...  \n",
      "49972                         10  \n",
      "49978                         10  \n",
      "49986                         10  \n",
      "49989                         10  \n",
      "49990                          9  \n",
      "\n",
      "[9136 rows x 10 columns]\n"
     ]
    }
   ],
   "source": [
    "import pandas as pd\n",
    "\n",
    "# Ruta al archivo CSV\n",
    "ruta_archivo = \"C:\\\\Users\\\\cesar\\\\Desktop\\\\platzi\\\\ETL_Workshop_01\\\\candidates.csv\"\n",
    "\n",
    "# Leer el archivo CSV utilizando pandas y especificando el delimitador correcto\n",
    "datos = pd.read_csv(ruta_archivo, delimiter=';')\n",
    "\n",
    "# Mostrar las primeras filas del DataFrame para verificar la carga de datos\n",
    "print(\"Datos iniciales:\")\n",
    "print(datos.head())\n",
    "\n",
    "# Filtrar candidatos de un país específico, por ejemplo, 'Norway'\n",
    "candidatos_noruega = datos[datos['Country'] == 'Norway']\n",
    "\n",
    "# Filtrar candidatos con una puntuación técnica superior a 8\n",
    "candidatos_alta_puntuacion = datos[datos['Technical Interview Score'] > 8]\n",
    "\n",
    "# Mostrar los resultados de los filtrados\n",
    "print(\"\\nCandidatos de Norway:\")\n",
    "print(candidatos_noruega)\n",
    "\n",
    "print(\"\\nCandidatos con puntuación técnica superior a 8:\")\n",
    "print(candidatos_alta_puntuacion)"
   ]
  },
  {
   "cell_type": "markdown",
   "metadata": {},
   "source": [
    "Creación de la Base de Datos DScandidates\n",
    "\n",
    "Acceso a pgAdmin: Primero, se accedió a pgAdmin, la interfaz gráfica de usuario para la administración de PostgreSQL.\n",
    "Creación de la Base de Datos: A través de la interfaz de pgAdmin, se navegó hasta el servidor PostgreSQL deseado. Luego, se hizo clic derecho en el grupo de bases de datos y se seleccionó la opción \"Create\" -> \"Database...\".\n",
    "Configuración de la Base de Datos: En el diálogo de creación, se introdujo el nombre DScandidates para la nueva base de datos. Se ajustaron las configuraciones necesarias según los requisitos del proyecto.\n",
    "Finalización: Después de configurar las opciones deseadas, se hizo clic en \"Save\" para crear la base de datos.\n",
    "Creación de la Tabla candidates\n",
    "Una vez creada la base de datos DScandidates, el siguiente paso fue la creación de una tabla para almacenar los datos de los candidatos.\n",
    "\n",
    "Navegación hasta la Base de Datos: En pgAdmin, se navegó hasta la base de datos DScandidates recién creada.\n",
    "\n",
    "Apertura del Query Tool: Se seleccionó la base de datos DScandidates y se abrió el \"Query Tool\" para escribir y ejecutar comandos SQL.\n",
    "\n",
    "Ejecución del Comando SQL para Crear la Tabla: Se introdujo el comando SQL necesario para crear la tabla candidates.:"
   ]
  },
  {
   "cell_type": "code",
   "execution_count": null,
   "metadata": {
    "vscode": {
     "languageId": "sql"
    }
   },
   "outputs": [],
   "source": [
    "CREATE TABLE candidates (\n",
    "    FirstName varchar(255),\n",
    "    LastName varchar(255),\n",
    "    Email varchar(255),\n",
    "    ApplicationDate date,\n",
    "    Country varchar(255),\n",
    "    YOE int,\n",
    "    Seniority varchar(255),\n",
    "    Technology varchar(255),\n",
    "    CodeChallengeScore int,\n",
    "    TechnicalInterviewScore int\n",
    ");"
   ]
  },
  {
   "cell_type": "markdown",
   "metadata": {},
   "source": [
    "Conexión a la Base de Datos DScandidates mediante psql\n",
    "\n",
    "Inicio de Sesión: Se inició psql especificando el servidor localhost, la base de datos DScandidates, el puerto 5432, y el usuario postgres. Tras proporcionar la contraseña correcta, se estableció la conexión con la base de datos.\n",
    "Advertencia de Codificación: Al conectarse, se presentó una advertencia indicando que el código de página de la consola difiere del código de página de Windows, lo que podría causar problemas con los caracteres de 8 bits. Esta advertencia sugiere revisar la documentación de psql para usuarios de Windows para más detalles."
   ]
  },
  {
   "cell_type": "markdown",
   "metadata": {},
   "source": [
    "Inspección de la Tabla candidates\n",
    "\n",
    "Listado de Relaciones: Se utilizó el comando \\d para listar todas las relaciones (tablas) en la base de datos DScandidates, confirmando la presencia de la tabla candidates.\n",
    "Detalle de la Tabla candidates: Mediante el comando \\d+ candidates, se obtuvo un detalle de la estructura de la tabla candidates, incluyendo nombres de columnas, tipos de datos, y otras propiedades como ordenamiento, si la columna acepta valores nulos, el almacenamiento, y compresión."
   ]
  },
  {
   "cell_type": "code",
   "execution_count": null,
   "metadata": {
    "vscode": {
     "languageId": "sql"
    }
   },
   "outputs": [],
   "source": [
    "Server [localhost]:\n",
    "Database [postgres]: DScandidates\n",
    "Port [5432]:\n",
    "Username [postgres]:\n",
    "Contraseña para usuario postgres:\n",
    "\n",
    "psql (16.2)\n",
    "ADVERTENCIA: El código de página de la consola (437) difiere del código\n",
    "            de página de Windows (1252).\n",
    "            Los caracteres de 8 bits pueden funcionar incorrectamente.\n",
    "            Vea la página de referencia de psql «Notes for Windows users»\n",
    "            para obtener más detalles.\n",
    "Digite «help» para obtener ayuda.\n",
    "\n",
    "DScandidates=# \\d\n",
    "          Listado de relaciones\n",
    " Esquema |   Nombre   | Tipo  |  Due±o\n",
    "---------+------------+-------+----------\n",
    " public  | candidates | tabla | postgres\n",
    "(1 fila)\n",
    "\n",
    "\n",
    "DScandidates=# \\d+ candidates\n",
    "                                                             Tabla ½public.candidates╗\n",
    "         Columna         |          Tipo          | Ordenamiento | Nulable | Por omisi≤n | Almacenamiento | Compresi≤n | Estadφsticas | Descripci≤n\n",
    "-------------------------+------------------------+--------------+---------+-------------+----------------+------------+--------------+-------------\n",
    " firstname               | character varying(255) |              |         |             | extended       |            |              |\n",
    " lastname                | character varying(255) |              |         |             | extended       |            |              |\n",
    " email                   | character varying(255) |              |         |             | extended       |            |              |\n",
    " applicationdate         | date                   |              |         |             | plain          |            |              |\n",
    " country                 | character varying(255) |              |         |             | extended       |            |              |\n",
    " yoe                     | integer                |              |         |             | plain          |            |              |\n",
    " seniority               | character varying(255) |              |         |             | extended       |            |              |\n",
    " technology              | character varying(255) |              |         |             | extended       |            |              |\n",
    " codechallengescore      | integer                |              |         |             | plain          |            |              |\n",
    " technicalinterviewscore | integer                |              |         |             | plain          |            |              |\n",
    "MΘtodo de acceso: heap"
   ]
  },
  {
   "cell_type": "markdown",
   "metadata": {},
   "source": [
    "Importación de Datos desde un Archivo CSV\n",
    "\n",
    "Importación Exitosa con \\copy: Se utilizó el comando \\copy, que ejecuta la importación desde el lado del cliente, permitiendo superar el problema de permisos y logrando importar con éxito los datos del archivo CSV a la tabla candidates."
   ]
  },
  {
   "cell_type": "code",
   "execution_count": null,
   "metadata": {
    "vscode": {
     "languageId": "sql"
    }
   },
   "outputs": [],
   "source": [
    "DScandidates=# \\copy candidates FROM 'C:\\Users\\cesar\\Desktop\\platzi\\ETL_Workshop_01\\candidates.csv' WITH (FORMAT csv, DELIMITER ';', HEADER true);\n",
    "COPY 50000\n",
    "DScandidates=# SELECT * FROM candidates LIMIT 70;\n",
    " firstname  |  lastname   |            email             | applicationdate |              country              | yoe | seniority |               technology                | codechallengescore | technicalinterviewscore\n",
    "------------+-------------+------------------------------+-----------------+-----------------------------------+-----+-----------+-----------------------------------------+--------------------+-------------------------\n",
    " Bernadette | Langworth   | leonard91@yahoo.com          | 2021-02-26      | Norway                            |   2 | Intern    | Data Engineer                           |                  3 |                       3\n",
    " Camryn     | Reynolds    | zelda56@hotmail.com          | 2021-09-09      | Panama                            |  10 | Intern    | Data Engineer                           |                  2 |                      10\n",
    " Larue      | Spinka      | okey_schultz41@gmail.com     | 2020-04-14      | Belarus                           |   4 | Mid-Level | Client Success                          |                 10 |                       9\n",
    " Arch       | Spinka      | elvera_kulas@yahoo.com       | 2020-10-01      | Eritrea                           |  25 | Trainee   | QA Manual                               |                  7 |                       1\n",
    " Larue      | Altenwerth  | minnie.gislason@gmail.com    | 2020-05-20      | Myanmar                           |  13 | Mid-Level | Social Media Community Management       |                  9 |                       7\n",
    " Alec       | Abbott      | juanita_hansen@gmail.com     | 2019-08-17      | Zimbabwe                          |   8 | Junior    | Adobe Experience Manager                |                  2 |                       9\n",
    " Allison    | Jacobs      | alba_rolfson27@yahoo.com     | 2018-05-18      | Wallis and Futuna                 |  19 | Trainee   | Sales\n",
    "                 |                  2 |                       9\n",
    " Nya        | Skiles      | madisen.zulauf@gmail.com     | 2021-12-09      | Myanmar                           |   1 | Lead      | Mulesoft\n",
    "                 |                  2 |                       5\n",
    " Mose       | Lakin       | dale_murazik@hotmail.com     | 2018-03-13      | Italy                             |  18 | Lead      | Social Media Community Management       |                  7 |                      10\n",
    " Terrance   | Zieme       | dustin31@hotmail.com         | 2022-04-08      | Timor-Leste                       |  25 | Lead      | DevOps\n",
    "                 |                  2 |                       0\n",
    " Aiyana     | Goodwin     | vallie.damore@yahoo.com      | 2019-09-22      | Armenia                           |  24 | Intern    | Development - CMS Backend               |                  4 |                       9\n",
    " Emilia     | Waelchi     | peter.grady@gmail.com        | 2020-07-15      | French Southern Territories       |  28 | Lead      | DevOps\n",
    "                 |                  7 |                       4\n",
    " Terrell    | Streich     | meta92@yahoo.com             | 2021-12-27      | Chad                              |   3 | Mid-Level | Salesforce\n",
    "                 |                  5 |                      10\n",
    " Hilda      | Rodriguez   | jordan.hyatt@hotmail.com     | 2020-05-09      | El Salvador                       |  16 | Junior    | System Administration                   |                  7 |                       8\n",
    " Hope       | Hansen      | clemmie.bruen@hotmail.com    | 2019-10-12      | Mozambique                        |  18 | Architect | Security\n",
    "                 |                  4 |                       1\n",
    " Arno       | Altenwerth  | cheyenne_rau2@gmail.com      | 2018-10-18      | Brunei Darussalam                 |  21 | Mid-Level | Game Development                        |                  4 |                       6\n",
    " Betty      | Crona       | judd.wisozk55@gmail.com      | 2020-03-25      | Morocco                           |  28 | Architect | Social Media Community -- More  -- More  -- Lines:"
   ]
  }
 ],
 "metadata": {
  "kernelspec": {
   "display_name": "Python 3",
   "language": "python",
   "name": "python3"
  },
  "language_info": {
   "codemirror_mode": {
    "name": "ipython",
    "version": 3
   },
   "file_extension": ".py",
   "mimetype": "text/x-python",
   "name": "python",
   "nbconvert_exporter": "python",
   "pygments_lexer": "ipython3",
   "version": "3.11.8"
  }
 },
 "nbformat": 4,
 "nbformat_minor": 2
}
