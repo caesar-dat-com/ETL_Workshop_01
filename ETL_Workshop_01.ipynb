{
 "cells": [
  {
   "cell_type": "code",
   "execution_count": 1,
   "metadata": {},
   "outputs": [
    {
     "name": "stdout",
     "output_type": "stream",
     "text": [
      "  First Name;Last Name;Email;Application Date;Country;YOE;Seniority;Technology;Code Challenge Score;Technical Interview Score\n",
      "0  Bernadette;Langworth;leonard91@yahoo.com;2021-...                                                                         \n",
      "1  Camryn;Reynolds;zelda56@hotmail.com;2021-09-09...                                                                         \n",
      "2  Larue;Spinka;okey_schultz41@gmail.com;2020-04-...                                                                         \n",
      "3  Arch;Spinka;elvera_kulas@yahoo.com;2020-10-01;...                                                                         \n",
      "4  Larue;Altenwerth;minnie.gislason@gmail.com;202...                                                                         \n"
     ]
    }
   ],
   "source": [
    "import pandas as pd\n",
    "\n",
    "# Ruta al archivo CSV\n",
    "ruta_archivo = \"C:\\\\Users\\\\cesar\\\\Desktop\\\\platzi\\\\ETL_Workshop_01\\\\candidates.csv\"\n",
    "\n",
    "# Leer el archivo CSV utilizando pandas\n",
    "datos = pd.read_csv(ruta_archivo)\n",
    "\n",
    "# Mostrar las primeras filas del DataFrame para verificar la carga de datos\n",
    "print(datos.head())"
   ]
  },
  {
   "cell_type": "code",
   "execution_count": 5,
   "metadata": {},
   "outputs": [
    {
     "name": "stdout",
     "output_type": "stream",
     "text": [
      "   First Name   Last Name                      Email Application Date  \\\n",
      "0  Bernadette   Langworth        leonard91@yahoo.com       2021-02-26   \n",
      "1      Camryn    Reynolds        zelda56@hotmail.com       2021-09-09   \n",
      "2       Larue      Spinka   okey_schultz41@gmail.com       2020-04-14   \n",
      "3        Arch      Spinka     elvera_kulas@yahoo.com       2020-10-01   \n",
      "4       Larue  Altenwerth  minnie.gislason@gmail.com       2020-05-20   \n",
      "\n",
      "   Country  YOE  Seniority                         Technology  \\\n",
      "0   Norway    2     Intern                      Data Engineer   \n",
      "1   Panama   10     Intern                      Data Engineer   \n",
      "2  Belarus    4  Mid-Level                     Client Success   \n",
      "3  Eritrea   25    Trainee                          QA Manual   \n",
      "4  Myanmar   13  Mid-Level  Social Media Community Management   \n",
      "\n",
      "   Code Challenge Score  Technical Interview Score  \n",
      "0                     3                          3  \n",
      "1                     2                         10  \n",
      "2                    10                          9  \n",
      "3                     7                          1  \n",
      "4                     9                          7  \n"
     ]
    }
   ],
   "source": [
    "import pandas as pd\n",
    "\n",
    "# Ruta al archivo CSV\n",
    "ruta_archivo = \"C:\\\\Users\\\\cesar\\\\Desktop\\\\platzi\\\\ETL_Workshop_01\\\\candidates.csv\"\n",
    "\n",
    "# Leer el archivo CSV utilizando pandas y especificando el delimitador correcto\n",
    "datos = pd.read_csv(ruta_archivo, delimiter=';')\n",
    "\n",
    "# Mostrar las primeras filas del DataFrame para verificar la carga de datos\n",
    "print(datos.head())"
   ]
  }
 ],
 "metadata": {
  "kernelspec": {
   "display_name": "Python 3",
   "language": "python",
   "name": "python3"
  },
  "language_info": {
   "codemirror_mode": {
    "name": "ipython",
    "version": 3
   },
   "file_extension": ".py",
   "mimetype": "text/x-python",
   "name": "python",
   "nbconvert_exporter": "python",
   "pygments_lexer": "ipython3",
   "version": "3.11.8"
  }
 },
 "nbformat": 4,
 "nbformat_minor": 2
}
